{
 "cells": [
  {
   "cell_type": "code",
   "execution_count": 70,
   "metadata": {},
   "outputs": [
    {
     "name": "stdout",
     "output_type": "stream",
     "text": [
      "Requirement already up-to-date: keras in /home/ubuntu/anaconda3/lib/python3.7/site-packages (2.2.4)\n",
      "Requirement already satisfied, skipping upgrade: keras-applications>=1.0.6 in /home/ubuntu/anaconda3/lib/python3.7/site-packages (from keras) (1.0.8)\n",
      "Requirement already satisfied, skipping upgrade: h5py in /home/ubuntu/anaconda3/lib/python3.7/site-packages (from keras) (2.9.0)\n",
      "Requirement already satisfied, skipping upgrade: scipy>=0.14 in /home/ubuntu/anaconda3/lib/python3.7/site-packages (from keras) (1.3.0)\n",
      "Requirement already satisfied, skipping upgrade: keras-preprocessing>=1.0.5 in /home/ubuntu/anaconda3/lib/python3.7/site-packages (from keras) (1.1.0)\n",
      "Requirement already satisfied, skipping upgrade: six>=1.9.0 in /home/ubuntu/anaconda3/lib/python3.7/site-packages (from keras) (1.12.0)\n",
      "Requirement already satisfied, skipping upgrade: pyyaml in /home/ubuntu/anaconda3/lib/python3.7/site-packages (from keras) (5.1.1)\n",
      "Requirement already satisfied, skipping upgrade: numpy>=1.9.1 in /home/ubuntu/anaconda3/lib/python3.7/site-packages (from keras) (1.16.4)\n"
     ]
    }
   ],
   "source": [
    "import pandas as pd\n",
    "!pip install --upgrade keras\n",
    "from keras.models import Sequential\n",
    "from keras.preprocessing.image import ImageDataGenerator\n",
    "from keras.layers import Dense, Activation, Flatten, Dropout, BatchNormalization\n",
    "from keras.layers import Conv2D, MaxPooling2D\n",
    "from keras import regularizers, optimizers\n",
    "import pandas as pd"
   ]
  },
  {
   "cell_type": "code",
   "execution_count": null,
   "metadata": {},
   "outputs": [],
   "source": []
  },
  {
   "cell_type": "code",
   "execution_count": 71,
   "metadata": {},
   "outputs": [
    {
     "name": "stdout",
     "output_type": "stream",
     "text": [
      "Keras version: 2.2.4\n"
     ]
    }
   ],
   "source": [
    "\n",
    "import keras\n",
    "from keras import backend as K\n",
    "\n",
    "print('Keras version:',keras.__version__)"
   ]
  },
  {
   "cell_type": "code",
   "execution_count": 82,
   "metadata": {},
   "outputs": [],
   "source": [
    "import tensorflow as tf\n",
    "from keras.backend.tensorflow_backend import set_session\n",
    "config = tf.ConfigProto()\n",
    "config.gpu_options.per_process_gpu_memory_fraction = 0.3\n",
    "set_session(tf.Session(config=config))"
   ]
  },
  {
   "cell_type": "code",
   "execution_count": 72,
   "metadata": {},
   "outputs": [],
   "source": [
    "# Load the dataframe\n",
    "train_path = \"/home/ubuntu/Documents/DataPrep/CNN_v1/CNN_ED_KJ_JY_LM_jpg_DF.csv\"\n",
    "Train_DF = pd.read_csv(train_path, index_col = 0)"
   ]
  },
  {
   "cell_type": "code",
   "execution_count": 73,
   "metadata": {},
   "outputs": [
    {
     "data": {
      "text/plain": [
       "['JPG_File_Path',\n",
       " 'Exposure',\n",
       " 'Contrast',\n",
       " 'Highlights',\n",
       " 'Shadows',\n",
       " 'Temperature']"
      ]
     },
     "execution_count": 73,
     "metadata": {},
     "output_type": "execute_result"
    }
   ],
   "source": [
    "Train_DF.columns.tolist()"
   ]
  },
  {
   "cell_type": "code",
   "execution_count": 74,
   "metadata": {},
   "outputs": [],
   "source": [
    "datagen=ImageDataGenerator(rescale=1./255.,validation_split=0.25)"
   ]
  },
  {
   "cell_type": "code",
   "execution_count": 75,
   "metadata": {},
   "outputs": [
    {
     "name": "stdout",
     "output_type": "stream",
     "text": [
      "Found 1825 validated image filenames.\n"
     ]
    }
   ],
   "source": [
    "## Prepare the data\n",
    "train_iter=datagen.flow_from_dataframe(\n",
    "dataframe=Train_DF,\n",
    "directory=None,\n",
    "x_col=\"JPG_File_Path\",\n",
    "y_col=['Exposure','Contrast','Highlights','Shadows','Temperature'],\n",
    "has_ext=False,\n",
    "subset=\"training\",\n",
    "class_mode=\"other\",\n",
    "target_size=(32,32))"
   ]
  },
  {
   "cell_type": "code",
   "execution_count": 76,
   "metadata": {},
   "outputs": [
    {
     "name": "stdout",
     "output_type": "stream",
     "text": [
      "Found 608 validated image filenames.\n"
     ]
    }
   ],
   "source": [
    "valid_iter=datagen.flow_from_dataframe(\n",
    "dataframe=Train_DF,\n",
    "directory=None,\n",
    "x_col=\"JPG_File_Path\",\n",
    "y_col=['Exposure','Contrast','Highlights','Shadows','Temperature'],\n",
    "has_ext=False,\n",
    "subset=\"validation\",\n",
    "class_mode=\"other\",\n",
    "target_size=(32,32))"
   ]
  },
  {
   "cell_type": "code",
   "execution_count": 77,
   "metadata": {},
   "outputs": [],
   "source": [
    "## The images has to be jpg\n",
    "model = Sequential()\n",
    "model.add(Conv2D(32, (3, 3), padding='same',\n",
    "                 input_shape=(32,32,3)))\n",
    "model.add(Activation('relu'))\n",
    "model.add(Conv2D(32, (3, 3)))\n",
    "model.add(Activation('relu'))\n",
    "model.add(MaxPooling2D(pool_size=(2, 2)))\n",
    "model.add(Dropout(0.25))"
   ]
  },
  {
   "cell_type": "code",
   "execution_count": 78,
   "metadata": {},
   "outputs": [],
   "source": [
    "model.add(Conv2D(64, (3, 3), padding='same'))\n",
    "model.add(Activation('relu'))\n",
    "model.add(Conv2D(64, (3, 3)))\n",
    "model.add(Activation('relu'))\n",
    "model.add(MaxPooling2D(pool_size=(2, 2)))\n",
    "model.add(Dropout(0.25))"
   ]
  },
  {
   "cell_type": "code",
   "execution_count": 79,
   "metadata": {},
   "outputs": [],
   "source": [
    "model.add(Flatten())\n",
    "model.add(Dense(512))\n",
    "model.add(Activation('relu'))\n",
    "model.add(Dropout(0.5))\n",
    "model.add(Dense(5, activation='softmax'))\n",
    "model.compile(optimizers.rmsprop(lr=0.0001, decay=1e-6),loss=\"mse\",metrics=[\"mse\"])"
   ]
  },
  {
   "cell_type": "code",
   "execution_count": 80,
   "metadata": {},
   "outputs": [
    {
     "name": "stdout",
     "output_type": "stream",
     "text": [
      "_________________________________________________________________\n",
      "Layer (type)                 Output Shape              Param #   \n",
      "=================================================================\n",
      "conv2d_21 (Conv2D)           (None, 32, 32, 32)        896       \n",
      "_________________________________________________________________\n",
      "activation_25 (Activation)   (None, 32, 32, 32)        0         \n",
      "_________________________________________________________________\n",
      "conv2d_22 (Conv2D)           (None, 30, 30, 32)        9248      \n",
      "_________________________________________________________________\n",
      "activation_26 (Activation)   (None, 30, 30, 32)        0         \n",
      "_________________________________________________________________\n",
      "max_pooling2d_11 (MaxPooling (None, 15, 15, 32)        0         \n",
      "_________________________________________________________________\n",
      "dropout_15 (Dropout)         (None, 15, 15, 32)        0         \n",
      "_________________________________________________________________\n",
      "conv2d_23 (Conv2D)           (None, 15, 15, 64)        18496     \n",
      "_________________________________________________________________\n",
      "activation_27 (Activation)   (None, 15, 15, 64)        0         \n",
      "_________________________________________________________________\n",
      "conv2d_24 (Conv2D)           (None, 13, 13, 64)        36928     \n",
      "_________________________________________________________________\n",
      "activation_28 (Activation)   (None, 13, 13, 64)        0         \n",
      "_________________________________________________________________\n",
      "max_pooling2d_12 (MaxPooling (None, 6, 6, 64)          0         \n",
      "_________________________________________________________________\n",
      "dropout_16 (Dropout)         (None, 6, 6, 64)          0         \n",
      "_________________________________________________________________\n",
      "flatten_7 (Flatten)          (None, 2304)              0         \n",
      "_________________________________________________________________\n",
      "dense_9 (Dense)              (None, 512)               1180160   \n",
      "_________________________________________________________________\n",
      "activation_29 (Activation)   (None, 512)               0         \n",
      "_________________________________________________________________\n",
      "dropout_17 (Dropout)         (None, 512)               0         \n",
      "_________________________________________________________________\n",
      "dense_10 (Dense)             (None, 5)                 2565      \n",
      "=================================================================\n",
      "Total params: 1,248,293\n",
      "Trainable params: 1,248,293\n",
      "Non-trainable params: 0\n",
      "_________________________________________________________________\n",
      "None\n"
     ]
    }
   ],
   "source": [
    "print(model.summary())"
   ]
  },
  {
   "cell_type": "code",
   "execution_count": 81,
   "metadata": {},
   "outputs": [
    {
     "name": "stdout",
     "output_type": "stream",
     "text": [
      "Epoch 1/10\n",
      "57/57 [==============================] - 11s 185ms/step - loss: 4251377.5132 - mean_squared_error: 4251377.5132 - val_loss: 3648199.4079 - val_mean_squared_error: 3648199.4079\n",
      "Epoch 2/10\n",
      "57/57 [==============================] - 10s 168ms/step - loss: 4236188.8075 - mean_squared_error: 4236188.8075 - val_loss: 3648199.0132 - val_mean_squared_error: 3648199.0132\n",
      "Epoch 3/10\n",
      "57/57 [==============================] - 9s 156ms/step - loss: 4313773.4344 - mean_squared_error: 4313773.4344 - val_loss: 3648199.0395 - val_mean_squared_error: 3648199.0395\n",
      "Epoch 4/10\n",
      "57/57 [==============================] - 9s 161ms/step - loss: 4207595.4694 - mean_squared_error: 4207595.4694 - val_loss: 3648199.0658 - val_mean_squared_error: 3648199.0658\n",
      "Epoch 5/10\n",
      "57/57 [==============================] - 9s 162ms/step - loss: 4241744.9186 - mean_squared_error: 4241744.9186 - val_loss: 3648199.0395 - val_mean_squared_error: 3648199.0395\n",
      "Epoch 6/10\n",
      "57/57 [==============================] - 9s 162ms/step - loss: 4268125.9242 - mean_squared_error: 4268125.9242 - val_loss: 3648199.0658 - val_mean_squared_error: 3648199.0658\n",
      "Epoch 7/10\n",
      "57/57 [==============================] - 9s 161ms/step - loss: 4251236.9698 - mean_squared_error: 4251236.9698 - val_loss: 3648199.0395 - val_mean_squared_error: 3648199.0395\n",
      "Epoch 8/10\n",
      "57/57 [==============================] - 9s 163ms/step - loss: 4218931.0105 - mean_squared_error: 4218931.0105 - val_loss: 3648199.0263 - val_mean_squared_error: 3648199.0263\n",
      "Epoch 9/10\n",
      "57/57 [==============================] - 10s 167ms/step - loss: 4243436.8143 - mean_squared_error: 4243436.8143 - val_loss: 3648199.0395 - val_mean_squared_error: 3648199.0395\n",
      "Epoch 10/10\n",
      "57/57 [==============================] - 9s 160ms/step - loss: 4313381.3755 - mean_squared_error: 4313381.3755 - val_loss: 3648199.0526 - val_mean_squared_error: 3648199.0526\n"
     ]
    }
   ],
   "source": [
    "STEP_SIZE_TRAIN=train_iter.n//train_iter.batch_size\n",
    "STEP_SIZE_VALID=valid_iter.n//valid_iter.batch_size\n",
    "history = model.fit_generator(generator=train_iter,\n",
    "                    steps_per_epoch=STEP_SIZE_TRAIN,\n",
    "                    validation_data=valid_iter,\n",
    "                    validation_steps=STEP_SIZE_VALID,\n",
    "                    epochs=10\n",
    ")"
   ]
  },
  {
   "cell_type": "code",
   "execution_count": 47,
   "metadata": {},
   "outputs": [
    {
     "data": {
      "image/png": "[encoded data removed]",
      "text/plain": [
       "<Figure size 432x288 with 1 Axes>"
      ]
     },
     "metadata": {
      "needs_background": "light"
     },
     "output_type": "display_data"
    }
   ],
   "source": [
    "%matplotlib inline\n",
    "from matplotlib import pyplot as plt\n",
    "\n",
    "epoch_nums = range(1,10+1)\n",
    "training_loss = history.history[\"loss\"]\n",
    "validation_loss = history.history[\"val_loss\"]\n",
    "plt.plot(epoch_nums, training_loss)\n",
    "plt.plot(epoch_nums, validation_loss)\n",
    "plt.xlabel('epoch')\n",
    "plt.ylabel('loss')\n",
    "plt.legend(['training', 'validation'], loc='upper right')\n",
    "plt.show()"
   ]
  },
  {
   "cell_type": "markdown",
   "metadata": {},
   "source": [
    "Try to fit only one label"
   ]
  },
  {
   "cell_type": "code",
   "execution_count": 83,
   "metadata": {},
   "outputs": [
    {
     "name": "stdout",
     "output_type": "stream",
     "text": [
      "Found 1825 validated image filenames.\n",
      "Found 608 validated image filenames.\n"
     ]
    }
   ],
   "source": [
    "datagen=ImageDataGenerator(rescale=1./255.,validation_split=0.25)\n",
    "\n",
    "## Prepare the data\n",
    "train_iter=datagen.flow_from_dataframe(\n",
    "dataframe=Train_DF,\n",
    "directory=None,\n",
    "x_col=\"JPG_File_Path\",\n",
    "y_col='Exposure',\n",
    "has_ext=False,\n",
    "subset=\"training\",\n",
    "class_mode=\"other\",\n",
    "target_size=(32,32))\n",
    "\n",
    "valid_iter=datagen.flow_from_dataframe(\n",
    "dataframe=Train_DF,\n",
    "directory=None,\n",
    "x_col=\"JPG_File_Path\",\n",
    "y_col='Exposure',\n",
    "has_ext=False,\n",
    "subset=\"validation\",\n",
    "class_mode=\"other\",\n",
    "target_size=(32,32))"
   ]
  },
  {
   "cell_type": "code",
   "execution_count": 84,
   "metadata": {},
   "outputs": [],
   "source": [
    "## The images has to be jpg\n",
    "model = Sequential()\n",
    "model.add(Conv2D(32, (3, 3), padding='same',\n",
    "                 input_shape=(32,32,3)))\n",
    "model.add(Activation('relu'))\n",
    "model.add(Conv2D(32, (3, 3)))\n",
    "model.add(Activation('relu'))\n",
    "model.add(MaxPooling2D(pool_size=(2, 2)))\n",
    "model.add(Dropout(0.25))"
   ]
  },
  {
   "cell_type": "code",
   "execution_count": 85,
   "metadata": {},
   "outputs": [],
   "source": [
    "model.add(Conv2D(64, (3, 3), padding='same'))\n",
    "model.add(Activation('relu'))\n",
    "model.add(Conv2D(64, (3, 3)))\n",
    "model.add(Activation('relu'))\n",
    "model.add(MaxPooling2D(pool_size=(2, 2)))\n",
    "model.add(Dropout(0.25))"
   ]
  },
  {
   "cell_type": "code",
   "execution_count": 86,
   "metadata": {},
   "outputs": [],
   "source": [
    "model.add(Flatten())\n",
    "model.add(Dense(512))\n",
    "model.add(Activation('relu'))\n",
    "model.add(Dropout(0.5))\n",
    "model.add(Dense(1, activation='softmax'))\n",
    "model.compile(optimizers.rmsprop(lr=0.0001, decay=1e-6),loss=\"mse\",metrics=[\"mse\"])"
   ]
  },
  {
   "cell_type": "code",
   "execution_count": 87,
   "metadata": {},
   "outputs": [
    {
     "name": "stdout",
     "output_type": "stream",
     "text": [
      "_________________________________________________________________\n",
      "Layer (type)                 Output Shape              Param #   \n",
      "=================================================================\n",
      "conv2d_25 (Conv2D)           (None, 32, 32, 32)        896       \n",
      "_________________________________________________________________\n",
      "activation_30 (Activation)   (None, 32, 32, 32)        0         \n",
      "_________________________________________________________________\n",
      "conv2d_26 (Conv2D)           (None, 30, 30, 32)        9248      \n",
      "_________________________________________________________________\n",
      "activation_31 (Activation)   (None, 30, 30, 32)        0         \n",
      "_________________________________________________________________\n",
      "max_pooling2d_13 (MaxPooling (None, 15, 15, 32)        0         \n",
      "_________________________________________________________________\n",
      "dropout_18 (Dropout)         (None, 15, 15, 32)        0         \n",
      "_________________________________________________________________\n",
      "conv2d_27 (Conv2D)           (None, 15, 15, 64)        18496     \n",
      "_________________________________________________________________\n",
      "activation_32 (Activation)   (None, 15, 15, 64)        0         \n",
      "_________________________________________________________________\n",
      "conv2d_28 (Conv2D)           (None, 13, 13, 64)        36928     \n",
      "_________________________________________________________________\n",
      "activation_33 (Activation)   (None, 13, 13, 64)        0         \n",
      "_________________________________________________________________\n",
      "max_pooling2d_14 (MaxPooling (None, 6, 6, 64)          0         \n",
      "_________________________________________________________________\n",
      "dropout_19 (Dropout)         (None, 6, 6, 64)          0         \n",
      "_________________________________________________________________\n",
      "flatten_8 (Flatten)          (None, 2304)              0         \n",
      "_________________________________________________________________\n",
      "dense_11 (Dense)             (None, 512)               1180160   \n",
      "_________________________________________________________________\n",
      "activation_34 (Activation)   (None, 512)               0         \n",
      "_________________________________________________________________\n",
      "dropout_20 (Dropout)         (None, 512)               0         \n",
      "_________________________________________________________________\n",
      "dense_12 (Dense)             (None, 1)                 513       \n",
      "=================================================================\n",
      "Total params: 1,246,241\n",
      "Trainable params: 1,246,241\n",
      "Non-trainable params: 0\n",
      "_________________________________________________________________\n",
      "None\n"
     ]
    }
   ],
   "source": [
    "print(model.summary())"
   ]
  },
  {
   "cell_type": "code",
   "execution_count": null,
   "metadata": {},
   "outputs": [],
   "source": [
    "STEP_SIZE_TRAIN=train_iter.n//train_iter.batch_size\n",
    "STEP_SIZE_VALID=valid_iter.n//valid_iter.batch_size\n",
    "history = model.fit_generator(generator=train_iter,\n",
    "                    steps_per_epoch=STEP_SIZE_TRAIN,\n",
    "                    validation_data=valid_iter,\n",
    "                    validation_steps=STEP_SIZE_VALID,\n",
    "                    epochs=20\n",
    ")"
   ]
  },
  {
   "cell_type": "code",
   "execution_count": 68,
   "metadata": {},
   "outputs": [
    {
     "data": {
      "image/png": "[encoded data removed]",
      "text/plain": [
       "<Figure size 432x288 with 1 Axes>"
      ]
     },
     "metadata": {
      "needs_background": "light"
     },
     "output_type": "display_data"
    }
   ],
   "source": [
    "%matplotlib inline\n",
    "from matplotlib import pyplot as plt\n",
    "\n",
    "epoch_nums = range(1,50+1)\n",
    "training_loss = history.history[\"loss\"]\n",
    "validation_loss = history.history[\"val_loss\"]\n",
    "plt.plot(epoch_nums, training_loss)\n",
    "plt.plot(epoch_nums, validation_loss)\n",
    "plt.xlabel('epoch')\n",
    "plt.ylabel('loss')\n",
    "plt.legend(['training', 'validation'], loc='upper right')\n",
    "plt.show()"
   ]
  },
  {
   "cell_type": "markdown",
   "metadata": {},
   "source": [
    "Now try to use pretrained model + final dense layer"
   ]
  },
  {
   "cell_type": "code",
   "execution_count": 90,
   "metadata": {},
   "outputs": [
    {
     "name": "stdout",
     "output_type": "stream",
     "text": [
      "Found 1825 validated image filenames.\n",
      "Found 608 validated image filenames.\n"
     ]
    }
   ],
   "source": [
    "datagen=ImageDataGenerator(rescale=1./255.,validation_split=0.25)\n",
    "\n",
    "## Prepare the data\n",
    "train_iter=datagen.flow_from_dataframe(\n",
    "dataframe=Train_DF,\n",
    "directory=None,\n",
    "x_col=\"JPG_File_Path\",\n",
    "y_col='Exposure',\n",
    "has_ext=False,\n",
    "subset=\"training\",\n",
    "class_mode=\"other\",\n",
    "target_size=(32,32))\n",
    "\n",
    "valid_iter=datagen.flow_from_dataframe(\n",
    "dataframe=Train_DF,\n",
    "directory=None,\n",
    "x_col=\"JPG_File_Path\",\n",
    "y_col='Exposure',\n",
    "has_ext=False,\n",
    "subset=\"validation\",\n",
    "class_mode=\"other\",\n",
    "target_size=(32,32))"
   ]
  },
  {
   "cell_type": "code",
   "execution_count": 91,
   "metadata": {},
   "outputs": [
    {
     "name": "stdout",
     "output_type": "stream",
     "text": [
      "Downloading data from https://github.com/fchollet/deep-learning-models/releases/download/v0.1/vgg16_weights_tf_dim_ordering_tf_kernels_notop.h5\n",
      "58892288/58889256 [==============================] - 8s 0us/step\n"
     ]
    }
   ],
   "source": [
    "from keras import applications\n",
    "#Load the base model, not including its final connected layer, and set the input shape to match our images\n",
    "base_model = keras.applications.vgg16.VGG16(weights='imagenet', include_top=False, input_shape=train_iter.image_shape)"
   ]
  },
  {
   "cell_type": "code",
   "execution_count": 97,
   "metadata": {},
   "outputs": [],
   "source": [
    "## Freeze the trained layers \n",
    "from keras import Model\n",
    "from keras.layers import Flatten, Dense\n",
    "from keras import optimizers\n",
    "\n",
    "# Freeze the already-trained layers in the base model\n",
    "for layer in base_model.layers:\n",
    "    layer.trainable = False\n",
    "\n",
    "# Create layers for last regression of our images\n",
    "x = base_model.output\n",
    "x = Flatten()(x)\n",
    "prediction_layer = Dense(1, activation='tanh')(x) \n",
    "model = Model(inputs=base_model.input, outputs=prediction_layer)\n",
    "\n",
    "model.compile(optimizers.rmsprop(lr=0.01, decay=1e-6),loss=\"mse\",metrics=[\"mse\"])\n"
   ]
  },
  {
   "cell_type": "code",
   "execution_count": 98,
   "metadata": {},
   "outputs": [
    {
     "name": "stdout",
     "output_type": "stream",
     "text": [
      "_________________________________________________________________\n",
      "Layer (type)                 Output Shape              Param #   \n",
      "=================================================================\n",
      "input_1 (InputLayer)         (None, 32, 32, 3)         0         \n",
      "_________________________________________________________________\n",
      "block1_conv1 (Conv2D)        (None, 32, 32, 64)        1792      \n",
      "_________________________________________________________________\n",
      "block1_conv2 (Conv2D)        (None, 32, 32, 64)        36928     \n",
      "_________________________________________________________________\n",
      "block1_pool (MaxPooling2D)   (None, 16, 16, 64)        0         \n",
      "_________________________________________________________________\n",
      "block2_conv1 (Conv2D)        (None, 16, 16, 128)       73856     \n",
      "_________________________________________________________________\n",
      "block2_conv2 (Conv2D)        (None, 16, 16, 128)       147584    \n",
      "_________________________________________________________________\n",
      "block2_pool (MaxPooling2D)   (None, 8, 8, 128)         0         \n",
      "_________________________________________________________________\n",
      "block3_conv1 (Conv2D)        (None, 8, 8, 256)         295168    \n",
      "_________________________________________________________________\n",
      "block3_conv2 (Conv2D)        (None, 8, 8, 256)         590080    \n",
      "_________________________________________________________________\n",
      "block3_conv3 (Conv2D)        (None, 8, 8, 256)         590080    \n",
      "_________________________________________________________________\n",
      "block3_pool (MaxPooling2D)   (None, 4, 4, 256)         0         \n",
      "_________________________________________________________________\n",
      "block4_conv1 (Conv2D)        (None, 4, 4, 512)         1180160   \n",
      "_________________________________________________________________\n",
      "block4_conv2 (Conv2D)        (None, 4, 4, 512)         2359808   \n",
      "_________________________________________________________________\n",
      "block4_conv3 (Conv2D)        (None, 4, 4, 512)         2359808   \n",
      "_________________________________________________________________\n",
      "block4_pool (MaxPooling2D)   (None, 2, 2, 512)         0         \n",
      "_________________________________________________________________\n",
      "block5_conv1 (Conv2D)        (None, 2, 2, 512)         2359808   \n",
      "_________________________________________________________________\n",
      "block5_conv2 (Conv2D)        (None, 2, 2, 512)         2359808   \n",
      "_________________________________________________________________\n",
      "block5_conv3 (Conv2D)        (None, 2, 2, 512)         2359808   \n",
      "_________________________________________________________________\n",
      "block5_pool (MaxPooling2D)   (None, 1, 1, 512)         0         \n",
      "_________________________________________________________________\n",
      "flatten_11 (Flatten)         (None, 512)               0         \n",
      "_________________________________________________________________\n",
      "dense_15 (Dense)             (None, 1)                 513       \n",
      "=================================================================\n",
      "Total params: 14,715,201\n",
      "Trainable params: 513\n",
      "Non-trainable params: 14,714,688\n",
      "_________________________________________________________________\n",
      "None\n"
     ]
    }
   ],
   "source": [
    "print(model.summary())"
   ]
  },
  {
   "cell_type": "code",
   "execution_count": 99,
   "metadata": {},
   "outputs": [
    {
     "name": "stdout",
     "output_type": "stream",
     "text": [
      "Epoch 1/30\n",
      "57/57 [==============================] - 11s 199ms/step - loss: 0.3401 - mean_squared_error: 0.3401 - val_loss: 0.5059 - val_mean_squared_error: 0.5059\n",
      "Epoch 2/30\n",
      "57/57 [==============================] - 10s 170ms/step - loss: 0.2922 - mean_squared_error: 0.2922 - val_loss: 0.4009 - val_mean_squared_error: 0.4009\n",
      "Epoch 3/30\n",
      "57/57 [==============================] - 10s 170ms/step - loss: 0.2998 - mean_squared_error: 0.2998 - val_loss: 0.4430 - val_mean_squared_error: 0.4430\n",
      "Epoch 4/30\n",
      "57/57 [==============================] - 10s 174ms/step - loss: 0.2854 - mean_squared_error: 0.2854 - val_loss: 0.4774 - val_mean_squared_error: 0.4774\n",
      "Epoch 5/30\n",
      "57/57 [==============================] - 10s 173ms/step - loss: 0.2717 - mean_squared_error: 0.2717 - val_loss: 0.3876 - val_mean_squared_error: 0.3876\n",
      "Epoch 6/30\n",
      "57/57 [==============================] - 10s 175ms/step - loss: 0.2657 - mean_squared_error: 0.2657 - val_loss: 0.3770 - val_mean_squared_error: 0.3770\n",
      "Epoch 7/30\n",
      "57/57 [==============================] - 10s 172ms/step - loss: 0.2659 - mean_squared_error: 0.2659 - val_loss: 0.3843 - val_mean_squared_error: 0.3843\n",
      "Epoch 8/30\n",
      "57/57 [==============================] - 10s 174ms/step - loss: 0.2532 - mean_squared_error: 0.2532 - val_loss: 0.6000 - val_mean_squared_error: 0.6000\n",
      "Epoch 9/30\n",
      "57/57 [==============================] - 10s 174ms/step - loss: 0.2752 - mean_squared_error: 0.2752 - val_loss: 0.4054 - val_mean_squared_error: 0.4054\n",
      "Epoch 10/30\n",
      "57/57 [==============================] - 10s 171ms/step - loss: 0.2595 - mean_squared_error: 0.2595 - val_loss: 0.4032 - val_mean_squared_error: 0.4032\n",
      "Epoch 11/30\n",
      "57/57 [==============================] - 10s 168ms/step - loss: 0.2547 - mean_squared_error: 0.2547 - val_loss: 0.4402 - val_mean_squared_error: 0.4402\n",
      "Epoch 12/30\n",
      "57/57 [==============================] - 10s 170ms/step - loss: 0.2775 - mean_squared_error: 0.2775 - val_loss: 0.3866 - val_mean_squared_error: 0.3866\n",
      "Epoch 13/30\n",
      "57/57 [==============================] - 10s 167ms/step - loss: 0.2431 - mean_squared_error: 0.2431 - val_loss: 0.4072 - val_mean_squared_error: 0.4072\n",
      "Epoch 14/30\n",
      "57/57 [==============================] - 10s 181ms/step - loss: 0.2541 - mean_squared_error: 0.2541 - val_loss: 0.4108 - val_mean_squared_error: 0.4108\n",
      "Epoch 15/30\n",
      "57/57 [==============================] - 10s 173ms/step - loss: 0.2401 - mean_squared_error: 0.2401 - val_loss: 0.4668 - val_mean_squared_error: 0.4668\n",
      "Epoch 16/30\n",
      "57/57 [==============================] - 10s 172ms/step - loss: 0.2624 - mean_squared_error: 0.2624 - val_loss: 0.4675 - val_mean_squared_error: 0.4675\n",
      "Epoch 17/30\n",
      "57/57 [==============================] - 10s 174ms/step - loss: 0.2364 - mean_squared_error: 0.2364 - val_loss: 0.4108 - val_mean_squared_error: 0.4108\n",
      "Epoch 18/30\n",
      "57/57 [==============================] - 10s 178ms/step - loss: 0.2497 - mean_squared_error: 0.2497 - val_loss: 0.6836 - val_mean_squared_error: 0.6836\n",
      "Epoch 19/30\n",
      "57/57 [==============================] - 10s 172ms/step - loss: 0.2451 - mean_squared_error: 0.2451 - val_loss: 0.5668 - val_mean_squared_error: 0.5668\n",
      "Epoch 20/30\n",
      "57/57 [==============================] - 10s 175ms/step - loss: 0.2545 - mean_squared_error: 0.2545 - val_loss: 0.3980 - val_mean_squared_error: 0.3980\n",
      "Epoch 21/30\n",
      "57/57 [==============================] - 10s 176ms/step - loss: 0.2269 - mean_squared_error: 0.2269 - val_loss: 0.5144 - val_mean_squared_error: 0.5144\n",
      "Epoch 22/30\n",
      "57/57 [==============================] - 10s 172ms/step - loss: 0.2397 - mean_squared_error: 0.2397 - val_loss: 0.6496 - val_mean_squared_error: 0.6496\n",
      "Epoch 23/30\n",
      "57/57 [==============================] - 10s 171ms/step - loss: 0.2458 - mean_squared_error: 0.2458 - val_loss: 0.3993 - val_mean_squared_error: 0.3993\n",
      "Epoch 24/30\n",
      "57/57 [==============================] - 10s 172ms/step - loss: 0.2967 - mean_squared_error: 0.2967 - val_loss: 0.4105 - val_mean_squared_error: 0.4105\n",
      "Epoch 25/30\n",
      "57/57 [==============================] - 10s 175ms/step - loss: 0.2329 - mean_squared_error: 0.2329 - val_loss: 0.4431 - val_mean_squared_error: 0.4431\n",
      "Epoch 26/30\n",
      "57/57 [==============================] - 10s 176ms/step - loss: 0.2379 - mean_squared_error: 0.2379 - val_loss: 0.4169 - val_mean_squared_error: 0.4169\n",
      "Epoch 27/30\n",
      "57/57 [==============================] - 10s 175ms/step - loss: 0.2450 - mean_squared_error: 0.2450 - val_loss: 0.4520 - val_mean_squared_error: 0.4520\n",
      "Epoch 28/30\n",
      "57/57 [==============================] - 10s 178ms/step - loss: 0.2334 - mean_squared_error: 0.2334 - val_loss: 0.4557 - val_mean_squared_error: 0.4557\n",
      "Epoch 29/30\n",
      "57/57 [==============================] - 10s 178ms/step - loss: 0.2536 - mean_squared_error: 0.2536 - val_loss: 0.5117 - val_mean_squared_error: 0.5117\n",
      "Epoch 30/30\n",
      "57/57 [==============================] - 10s 177ms/step - loss: 0.2397 - mean_squared_error: 0.2397 - val_loss: 0.4197 - val_mean_squared_error: 0.4197\n"
     ]
    }
   ],
   "source": [
    "STEP_SIZE_TRAIN=train_iter.n//train_iter.batch_size\n",
    "STEP_SIZE_VALID=valid_iter.n//valid_iter.batch_size\n",
    "history = model.fit_generator(generator=train_iter,\n",
    "                    steps_per_epoch=STEP_SIZE_TRAIN,\n",
    "                    validation_data=valid_iter,\n",
    "                    validation_steps=STEP_SIZE_VALID,\n",
    "                    epochs=30\n",
    ")"
   ]
  },
  {
   "cell_type": "code",
   "execution_count": 100,
   "metadata": {},
   "outputs": [
    {
     "data": {
      "image/png": "[encoded data removed]",
      "text/plain": [
       "<Figure size 432x288 with 1 Axes>"
      ]
     },
     "metadata": {
      "needs_background": "light"
     },
     "output_type": "display_data"
    }
   ],
   "source": [
    "%matplotlib inline\n",
    "from matplotlib import pyplot as plt\n",
    "\n",
    "epoch_nums = range(1,30+1)\n",
    "training_loss = history.history[\"loss\"]\n",
    "validation_loss = history.history[\"val_loss\"]\n",
    "plt.plot(epoch_nums, training_loss)\n",
    "plt.plot(epoch_nums, validation_loss)\n",
    "plt.xlabel('epoch')\n",
    "plt.ylabel('loss')\n",
    "plt.legend(['training', 'validation'], loc='upper right')\n",
    "plt.show()"
   ]
  },
  {
   "cell_type": "code",
   "execution_count": 101,
   "metadata": {},
   "outputs": [
    {
     "name": "stdout",
     "output_type": "stream",
     "text": [
      "Model saved.\n"
     ]
    }
   ],
   "source": [
    "\n",
    "## To save a model\n",
    "\n",
    "from keras.models import load_model\n",
    "\n",
    "modelFileName = 'Eddi_Regression_v1.h5'\n",
    "\n",
    "model.save(modelFileName) # saves the trained model\n",
    "print(\"Model saved.\")"
   ]
  },
  {
   "cell_type": "code",
   "execution_count": 102,
   "metadata": {},
   "outputs": [],
   "source": [
    "# load the saved model\n",
    "modelFileName = 'Eddi_Regression_v1.h5'\n",
    "model = load_model(modelFileName) "
   ]
  },
  {
   "cell_type": "code",
   "execution_count": 104,
   "metadata": {},
   "outputs": [
    {
     "name": "stdout",
     "output_type": "stream",
     "text": [
      "_________________________________________________________________\n",
      "Layer (type)                 Output Shape              Param #   \n",
      "=================================================================\n",
      "input_1 (InputLayer)         (None, 32, 32, 3)         0         \n",
      "_________________________________________________________________\n",
      "block1_conv1 (Conv2D)        (None, 32, 32, 64)        1792      \n",
      "_________________________________________________________________\n",
      "block1_conv2 (Conv2D)        (None, 32, 32, 64)        36928     \n",
      "_________________________________________________________________\n",
      "block1_pool (MaxPooling2D)   (None, 16, 16, 64)        0         \n",
      "_________________________________________________________________\n",
      "block2_conv1 (Conv2D)        (None, 16, 16, 128)       73856     \n",
      "_________________________________________________________________\n",
      "block2_conv2 (Conv2D)        (None, 16, 16, 128)       147584    \n",
      "_________________________________________________________________\n",
      "block2_pool (MaxPooling2D)   (None, 8, 8, 128)         0         \n",
      "_________________________________________________________________\n",
      "block3_conv1 (Conv2D)        (None, 8, 8, 256)         295168    \n",
      "_________________________________________________________________\n",
      "block3_conv2 (Conv2D)        (None, 8, 8, 256)         590080    \n",
      "_________________________________________________________________\n",
      "block3_conv3 (Conv2D)        (None, 8, 8, 256)         590080    \n",
      "_________________________________________________________________\n",
      "block3_pool (MaxPooling2D)   (None, 4, 4, 256)         0         \n",
      "_________________________________________________________________\n",
      "block4_conv1 (Conv2D)        (None, 4, 4, 512)         1180160   \n",
      "_________________________________________________________________\n",
      "block4_conv2 (Conv2D)        (None, 4, 4, 512)         2359808   \n",
      "_________________________________________________________________\n",
      "block4_conv3 (Conv2D)        (None, 4, 4, 512)         2359808   \n",
      "_________________________________________________________________\n",
      "block4_pool (MaxPooling2D)   (None, 2, 2, 512)         0         \n",
      "_________________________________________________________________\n",
      "block5_conv1 (Conv2D)        (None, 2, 2, 512)         2359808   \n",
      "_________________________________________________________________\n",
      "block5_conv2 (Conv2D)        (None, 2, 2, 512)         2359808   \n",
      "_________________________________________________________________\n",
      "block5_conv3 (Conv2D)        (None, 2, 2, 512)         2359808   \n",
      "_________________________________________________________________\n",
      "block5_pool (MaxPooling2D)   (None, 1, 1, 512)         0         \n",
      "_________________________________________________________________\n",
      "flatten_11 (Flatten)         (None, 512)               0         \n",
      "_________________________________________________________________\n",
      "dense_15 (Dense)             (None, 1)                 513       \n",
      "=================================================================\n",
      "Total params: 14,715,201\n",
      "Trainable params: 513\n",
      "Non-trainable params: 14,714,688\n",
      "_________________________________________________________________\n"
     ]
    }
   ],
   "source": [
    "model.summary()"
   ]
  },
  {
   "cell_type": "code",
   "execution_count": 108,
   "metadata": {},
   "outputs": [],
   "source": [
    "## Freeze the trained layers \n",
    "from keras import Model\n",
    "from keras.layers import Flatten, Dense\n",
    "from keras import optimizers\n",
    "\n",
    "# Freeze the already-trained layers in the base model\n",
    "for layer in base_model.layers:\n",
    "    layer.trainable = False\n",
    "\n",
    "# Create layers for last regression of our images\n",
    "x = base_model.output\n",
    "x = Flatten()(x)\n",
    "prediction_layer = Dense(1, activation='softplus')(x) \n",
    "model = Model(inputs=base_model.input, outputs=prediction_layer)\n",
    "\n",
    "model.compile(optimizers.rmsprop(lr=0.05, decay=1e-6),loss=\"mse\",metrics=[\"mse\"])\n"
   ]
  },
  {
   "cell_type": "code",
   "execution_count": 109,
   "metadata": {},
   "outputs": [
    {
     "name": "stdout",
     "output_type": "stream",
     "text": [
      "_________________________________________________________________\n",
      "Layer (type)                 Output Shape              Param #   \n",
      "=================================================================\n",
      "input_1 (InputLayer)         (None, 32, 32, 3)         0         \n",
      "_________________________________________________________________\n",
      "block1_conv1 (Conv2D)        (None, 32, 32, 64)        1792      \n",
      "_________________________________________________________________\n",
      "block1_conv2 (Conv2D)        (None, 32, 32, 64)        36928     \n",
      "_________________________________________________________________\n",
      "block1_pool (MaxPooling2D)   (None, 16, 16, 64)        0         \n",
      "_________________________________________________________________\n",
      "block2_conv1 (Conv2D)        (None, 16, 16, 128)       73856     \n",
      "_________________________________________________________________\n",
      "block2_conv2 (Conv2D)        (None, 16, 16, 128)       147584    \n",
      "_________________________________________________________________\n",
      "block2_pool (MaxPooling2D)   (None, 8, 8, 128)         0         \n",
      "_________________________________________________________________\n",
      "block3_conv1 (Conv2D)        (None, 8, 8, 256)         295168    \n",
      "_________________________________________________________________\n",
      "block3_conv2 (Conv2D)        (None, 8, 8, 256)         590080    \n",
      "_________________________________________________________________\n",
      "block3_conv3 (Conv2D)        (None, 8, 8, 256)         590080    \n",
      "_________________________________________________________________\n",
      "block3_pool (MaxPooling2D)   (None, 4, 4, 256)         0         \n",
      "_________________________________________________________________\n",
      "block4_conv1 (Conv2D)        (None, 4, 4, 512)         1180160   \n",
      "_________________________________________________________________\n",
      "block4_conv2 (Conv2D)        (None, 4, 4, 512)         2359808   \n",
      "_________________________________________________________________\n",
      "block4_conv3 (Conv2D)        (None, 4, 4, 512)         2359808   \n",
      "_________________________________________________________________\n",
      "block4_pool (MaxPooling2D)   (None, 2, 2, 512)         0         \n",
      "_________________________________________________________________\n",
      "block5_conv1 (Conv2D)        (None, 2, 2, 512)         2359808   \n",
      "_________________________________________________________________\n",
      "block5_conv2 (Conv2D)        (None, 2, 2, 512)         2359808   \n",
      "_________________________________________________________________\n",
      "block5_conv3 (Conv2D)        (None, 2, 2, 512)         2359808   \n",
      "_________________________________________________________________\n",
      "block5_pool (MaxPooling2D)   (None, 1, 1, 512)         0         \n",
      "_________________________________________________________________\n",
      "flatten_13 (Flatten)         (None, 512)               0         \n",
      "_________________________________________________________________\n",
      "dense_17 (Dense)             (None, 1)                 513       \n",
      "=================================================================\n",
      "Total params: 14,715,201\n",
      "Trainable params: 513\n",
      "Non-trainable params: 14,714,688\n",
      "_________________________________________________________________\n",
      "None\n"
     ]
    }
   ],
   "source": [
    "print(model.summary())"
   ]
  },
  {
   "cell_type": "code",
   "execution_count": 110,
   "metadata": {},
   "outputs": [
    {
     "name": "stdout",
     "output_type": "stream",
     "text": [
      "Epoch 1/20\n",
      "57/57 [==============================] - 11s 199ms/step - loss: 0.4029 - mean_squared_error: 0.4029 - val_loss: 0.4258 - val_mean_squared_error: 0.4258\n",
      "Epoch 2/20\n",
      "57/57 [==============================] - 10s 176ms/step - loss: 0.5763 - mean_squared_error: 0.5763 - val_loss: 0.3972 - val_mean_squared_error: 0.3972\n",
      "Epoch 3/20\n",
      "57/57 [==============================] - 10s 178ms/step - loss: 0.4022 - mean_squared_error: 0.4022 - val_loss: 0.4056 - val_mean_squared_error: 0.4056\n",
      "Epoch 4/20\n",
      "57/57 [==============================] - 10s 175ms/step - loss: 0.3952 - mean_squared_error: 0.3952 - val_loss: 0.4443 - val_mean_squared_error: 0.4443\n",
      "Epoch 5/20\n",
      "57/57 [==============================] - 10s 182ms/step - loss: 0.4260 - mean_squared_error: 0.4260 - val_loss: 0.4019 - val_mean_squared_error: 0.4019\n",
      "Epoch 6/20\n",
      "57/57 [==============================] - 10s 175ms/step - loss: 0.3971 - mean_squared_error: 0.3971 - val_loss: 0.4105 - val_mean_squared_error: 0.4105\n",
      "Epoch 7/20\n",
      "57/57 [==============================] - 10s 173ms/step - loss: 0.3894 - mean_squared_error: 0.3894 - val_loss: 0.4119 - val_mean_squared_error: 0.4119\n",
      "Epoch 8/20\n",
      "57/57 [==============================] - 10s 181ms/step - loss: 0.4016 - mean_squared_error: 0.4016 - val_loss: 0.4263 - val_mean_squared_error: 0.4263\n",
      "Epoch 9/20\n",
      "57/57 [==============================] - 10s 175ms/step - loss: 0.4281 - mean_squared_error: 0.4281 - val_loss: 0.3865 - val_mean_squared_error: 0.3865\n",
      "Epoch 10/20\n",
      "57/57 [==============================] - 10s 175ms/step - loss: 0.4225 - mean_squared_error: 0.4225 - val_loss: 0.4176 - val_mean_squared_error: 0.4176\n",
      "Epoch 11/20\n",
      "57/57 [==============================] - 10s 175ms/step - loss: 0.3969 - mean_squared_error: 0.3969 - val_loss: 0.3901 - val_mean_squared_error: 0.3901\n",
      "Epoch 12/20\n",
      "57/57 [==============================] - 10s 178ms/step - loss: 0.4123 - mean_squared_error: 0.4123 - val_loss: 0.4307 - val_mean_squared_error: 0.4307\n",
      "Epoch 13/20\n",
      "57/57 [==============================] - 10s 177ms/step - loss: 0.4097 - mean_squared_error: 0.4097 - val_loss: 0.3996 - val_mean_squared_error: 0.3996\n",
      "Epoch 14/20\n",
      "57/57 [==============================] - 10s 180ms/step - loss: 0.3998 - mean_squared_error: 0.3998 - val_loss: 0.4276 - val_mean_squared_error: 0.4276\n",
      "Epoch 15/20\n",
      "57/57 [==============================] - 10s 176ms/step - loss: 0.4157 - mean_squared_error: 0.4157 - val_loss: 0.4101 - val_mean_squared_error: 0.4101\n",
      "Epoch 16/20\n",
      "57/57 [==============================] - 10s 172ms/step - loss: 0.4092 - mean_squared_error: 0.4092 - val_loss: 0.4058 - val_mean_squared_error: 0.4058\n",
      "Epoch 17/20\n",
      "57/57 [==============================] - 10s 173ms/step - loss: 0.4985 - mean_squared_error: 0.4985 - val_loss: 0.4253 - val_mean_squared_error: 0.4253\n",
      "Epoch 18/20\n",
      "57/57 [==============================] - 10s 176ms/step - loss: 0.4182 - mean_squared_error: 0.4182 - val_loss: 0.4171 - val_mean_squared_error: 0.4171\n",
      "Epoch 19/20\n",
      "57/57 [==============================] - 10s 170ms/step - loss: 0.3984 - mean_squared_error: 0.3984 - val_loss: 0.4290 - val_mean_squared_error: 0.4290\n",
      "Epoch 20/20\n",
      "57/57 [==============================] - 10s 173ms/step - loss: 0.4030 - mean_squared_error: 0.4030 - val_loss: 0.3905 - val_mean_squared_error: 0.3905\n"
     ]
    }
   ],
   "source": [
    "STEP_SIZE_TRAIN=train_iter.n//train_iter.batch_size\n",
    "STEP_SIZE_VALID=valid_iter.n//valid_iter.batch_size\n",
    "history = model.fit_generator(generator=train_iter,\n",
    "                    steps_per_epoch=STEP_SIZE_TRAIN,\n",
    "                    validation_data=valid_iter,\n",
    "                    validation_steps=STEP_SIZE_VALID,\n",
    "                    epochs=20\n",
    ")"
   ]
  },
  {
   "cell_type": "code",
   "execution_count": 123,
   "metadata": {},
   "outputs": [
    {
     "data": {
      "image/png": "[encoded data removed]",
      "text/plain": [
       "<Figure size 432x288 with 1 Axes>"
      ]
     },
     "metadata": {
      "needs_background": "light"
     },
     "output_type": "display_data"
    }
   ],
   "source": [
    "%matplotlib inline\n",
    "from matplotlib import pyplot as plt\n",
    "\n",
    "epoch_nums = range(1,20+1)\n",
    "training_loss = history.history[\"loss\"]\n",
    "validation_loss = history.history[\"val_loss\"]\n",
    "plt.plot(epoch_nums, training_loss)\n",
    "plt.plot(epoch_nums, validation_loss)\n",
    "plt.xlabel('epoch')\n",
    "plt.ylabel('loss')\n",
    "plt.legend(['training', 'validation'], loc='upper right')\n",
    "plt.show()"
   ]
  },
  {
   "cell_type": "code",
   "execution_count": 114,
   "metadata": {},
   "outputs": [],
   "source": [
    "import tensorflow as tf\n",
    "from keras.backend.tensorflow_backend import set_session\n",
    "config = tf.ConfigProto()\n",
    "config.gpu_options.per_process_gpu_memory_fraction = 0.9\n",
    "set_session(tf.Session(config=config))"
   ]
  },
  {
   "cell_type": "code",
   "execution_count": 115,
   "metadata": {},
   "outputs": [
    {
     "data": {
      "text/plain": [
       "<tensorflow.python.client.session.Session at 0x7f2ba1084470>"
      ]
     },
     "execution_count": 115,
     "metadata": {},
     "output_type": "execute_result"
    }
   ],
   "source": [
    "tf.Session()"
   ]
  },
  {
   "cell_type": "code",
   "execution_count": 116,
   "metadata": {},
   "outputs": [
    {
     "data": {
      "text/plain": [
       "[name: \"/device:CPU:0\"\n",
       " device_type: \"CPU\"\n",
       " memory_limit: 268435456\n",
       " locality {\n",
       " }\n",
       " incarnation: 16303146013955633541, name: \"/device:XLA_CPU:0\"\n",
       " device_type: \"XLA_CPU\"\n",
       " memory_limit: 17179869184\n",
       " locality {\n",
       " }\n",
       " incarnation: 10686856168061023496\n",
       " physical_device_desc: \"device: XLA_CPU device\"]"
      ]
     },
     "execution_count": 116,
     "metadata": {},
     "output_type": "execute_result"
    }
   ],
   "source": [
    "from tensorflow.python.client import device_lib\n",
    "\n",
    "device_lib.list_local_devices()"
   ]
  },
  {
   "cell_type": "code",
   "execution_count": 117,
   "metadata": {},
   "outputs": [
    {
     "data": {
      "text/plain": [
       "False"
      ]
     },
     "execution_count": 117,
     "metadata": {},
     "output_type": "execute_result"
    }
   ],
   "source": [
    "tf.test.is_gpu_available()"
   ]
  },
  {
   "cell_type": "code",
   "execution_count": 118,
   "metadata": {},
   "outputs": [
    {
     "data": {
      "text/plain": [
       "''"
      ]
     },
     "execution_count": 118,
     "metadata": {},
     "output_type": "execute_result"
    }
   ],
   "source": [
    "tf.test.gpu_device_name()\n"
   ]
  },
  {
   "cell_type": "code",
   "execution_count": 119,
   "metadata": {
    "scrolled": true
   },
   "outputs": [
    {
     "data": {
      "text/plain": [
       "[name: \"/device:CPU:0\"\n",
       " device_type: \"CPU\"\n",
       " memory_limit: 268435456\n",
       " locality {\n",
       " }\n",
       " incarnation: 17572077164292516871, name: \"/device:XLA_CPU:0\"\n",
       " device_type: \"XLA_CPU\"\n",
       " memory_limit: 17179869184\n",
       " locality {\n",
       " }\n",
       " incarnation: 9158890267579451409\n",
       " physical_device_desc: \"device: XLA_CPU device\"]"
      ]
     },
     "execution_count": 119,
     "metadata": {},
     "output_type": "execute_result"
    }
   ],
   "source": [
    "device_lib.list_local_devices()"
   ]
  }
 ],
 "metadata": {
  "kernelspec": {
   "display_name": "Python 3",
   "language": "python",
   "name": "python3"
  },
  "language_info": {
   "codemirror_mode": {
    "name": "ipython",
    "version": 3
   },
   "file_extension": ".py",
   "mimetype": "text/x-python",
   "name": "python",
   "nbconvert_exporter": "python",
   "pygments_lexer": "ipython3",
   "version": "3.7.3"
  }
 },
 "nbformat": 4,
 "nbformat_minor": 2
}
