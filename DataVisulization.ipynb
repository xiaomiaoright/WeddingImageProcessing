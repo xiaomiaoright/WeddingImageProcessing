{
 "cells": [
  {
   "cell_type": "markdown",
   "metadata": {},
   "source": [
    "# Extract Feature DataFrame from NEF folders"
   ]
  },
  {
   "cell_type": "code",
   "execution_count": 1,
   "metadata": {},
   "outputs": [],
   "source": [
    "# Import Packages\n",
    "import os\n",
    "import rawpy\n",
    "import pandas as pd\n",
    "import numpy as np"
   ]
  },
  {
   "cell_type": "code",
   "execution_count": 14,
   "metadata": {},
   "outputs": [],
   "source": [
    "# Define the NEF2DF function\n",
    "def NEFFolder2Feature(NEF_folder_path):\n",
    "    import os \n",
    "\n",
    "    Features = pd.DataFrame()\n",
    "\n",
    "    # go through all XMP files in folder\n",
    "    files = sorted(os.listdir(NEF_folder_path))\n",
    "    \n",
    "\n",
    "    for file_idx in range(len(files)):\n",
    "        feature_list = []\n",
    "\n",
    "        NEF_file_path = os.path.join(NEF_folder_path,files[file_idx])\n",
    "\n",
    "        rp_image = rawpy.imread(NEF_file_path)\n",
    "        rgb = rp_image.postprocess()\n",
    "\n",
    "        # red the R, G, B channels seperately and sort from 0 to 255\n",
    "        rgb_1 = np.sort(rgb[:,:,0].ravel())\n",
    "        rgb_2 = np.sort(rgb[:,:,1].ravel())\n",
    "        rgb_3 = np.sort(rgb[:,:,2].ravel())\n",
    "\n",
    "        dataset = pd.DataFrame({'Red': rgb_1, 'Green': rgb_2, 'Blue':rgb_3})\n",
    "\n",
    "        df_1 = dataset['Red'].value_counts(bins = 16, normalize = True).sort_index()\n",
    "        df_2 = dataset['Green'].value_counts(bins = 16, normalize = True).sort_index()\n",
    "        df_3 = dataset['Blue'].value_counts(bins = 16, normalize = True).sort_index()\n",
    "\n",
    "        feature_list.append(df_1.tolist())\n",
    "        feature_list.append(df_2.tolist())\n",
    "        feature_list.append(df_3.tolist())\n",
    "\n",
    "        feature_array = np.array(feature_list).ravel()\n",
    "\n",
    "        Features[files[file_idx].split(\".\")[0]] = feature_array\n",
    "\n",
    "    return Features.T"
   ]
  },
  {
   "cell_type": "code",
   "execution_count": 15,
   "metadata": {},
   "outputs": [],
   "source": [
    "# Set the NEF files folder, the folder has all the NEF files for the wedding\n",
    "ED_NEF = \"/Users/user7/Downloads/HD6_12er/Erin & Dan Wedding/2017-09-23/ED_NEF\"\n",
    "JY_NEF = \"/Users/user7/Downloads/HD6_12er/James & Yasmin Wedding/2017-08-06/JY_NEF\"\n",
    "LM_NEF = \"/Users/user7/Downloads/HD6_12er/Lauren & Matt Wedding/2017-09-08/LM_NEF\"\n",
    "LC_NEF = \"/Users/user7/Downloads/HD6_12er/Lorraine & Chad Wedding/2017-08-19/LC_NEF\""
   ]
  },
  {
   "cell_type": "code",
   "execution_count": 16,
   "metadata": {},
   "outputs": [
    {
     "ename": "FileNotFoundError",
     "evalue": "[Errno 2] No such file or directory: '/Users/user7/Downloads/HD6_12er/Erin & Dan Wedding/2017-09-23/ED_NEF/.DS_Store'",
     "output_type": "error",
     "traceback": [
      "\u001b[0;31m---------------------------------------------------------------------------\u001b[0m",
      "\u001b[0;31mFileNotFoundError\u001b[0m                         Traceback (most recent call last)",
      "\u001b[0;32m<ipython-input-16-b339948e6494>\u001b[0m in \u001b[0;36m<module>\u001b[0;34m\u001b[0m\n\u001b[0;32m----> 1\u001b[0;31m \u001b[0mos\u001b[0m\u001b[0;34m.\u001b[0m\u001b[0mremove\u001b[0m\u001b[0;34m(\u001b[0m\u001b[0;34m\"/Users/user7/Downloads/HD6_12er/Erin & Dan Wedding/2017-09-23/ED_NEF/.DS_Store\"\u001b[0m\u001b[0;34m)\u001b[0m\u001b[0;34m\u001b[0m\u001b[0;34m\u001b[0m\u001b[0m\n\u001b[0m",
      "\u001b[0;31mFileNotFoundError\u001b[0m: [Errno 2] No such file or directory: '/Users/user7/Downloads/HD6_12er/Erin & Dan Wedding/2017-09-23/ED_NEF/.DS_Store'"
     ]
    }
   ],
   "source": [
    "os.remove(\"/Users/user7/Downloads/HD6_12er/Erin & Dan Wedding/2017-09-23/ED_NEF/.DS_Store\")"
   ]
  },
  {
   "cell_type": "code",
   "execution_count": 27,
   "metadata": {},
   "outputs": [
    {
     "ename": "KeyboardInterrupt",
     "evalue": "",
     "output_type": "error",
     "traceback": [
      "\u001b[0;31m---------------------------------------------------------------------------\u001b[0m",
      "\u001b[0;31mKeyboardInterrupt\u001b[0m                         Traceback (most recent call last)",
      "\u001b[0;32m<ipython-input-27-ca63f481043d>\u001b[0m in \u001b[0;36m<module>\u001b[0;34m\u001b[0m\n\u001b[0;32m----> 1\u001b[0;31m \u001b[0mED_Feature_Df\u001b[0m \u001b[0;34m=\u001b[0m \u001b[0mNEFFolder2Feature\u001b[0m\u001b[0;34m(\u001b[0m\u001b[0mED_NEF\u001b[0m\u001b[0;34m)\u001b[0m\u001b[0;34m\u001b[0m\u001b[0;34m\u001b[0m\u001b[0m\n\u001b[0m",
      "\u001b[0;32m<ipython-input-14-2bdbc531c95e>\u001b[0m in \u001b[0;36mNEFFolder2Feature\u001b[0;34m(NEF_folder_path)\u001b[0m\n\u001b[1;32m     14\u001b[0m         \u001b[0mNEF_file_path\u001b[0m \u001b[0;34m=\u001b[0m \u001b[0mos\u001b[0m\u001b[0;34m.\u001b[0m\u001b[0mpath\u001b[0m\u001b[0;34m.\u001b[0m\u001b[0mjoin\u001b[0m\u001b[0;34m(\u001b[0m\u001b[0mNEF_folder_path\u001b[0m\u001b[0;34m,\u001b[0m\u001b[0mfiles\u001b[0m\u001b[0;34m[\u001b[0m\u001b[0mfile_idx\u001b[0m\u001b[0;34m]\u001b[0m\u001b[0;34m)\u001b[0m\u001b[0;34m\u001b[0m\u001b[0;34m\u001b[0m\u001b[0m\n\u001b[1;32m     15\u001b[0m \u001b[0;34m\u001b[0m\u001b[0m\n\u001b[0;32m---> 16\u001b[0;31m         \u001b[0mrp_image\u001b[0m \u001b[0;34m=\u001b[0m \u001b[0mrawpy\u001b[0m\u001b[0;34m.\u001b[0m\u001b[0mimread\u001b[0m\u001b[0;34m(\u001b[0m\u001b[0mNEF_file_path\u001b[0m\u001b[0;34m)\u001b[0m\u001b[0;34m\u001b[0m\u001b[0;34m\u001b[0m\u001b[0m\n\u001b[0m\u001b[1;32m     17\u001b[0m         \u001b[0mrgb\u001b[0m \u001b[0;34m=\u001b[0m \u001b[0mrp_image\u001b[0m\u001b[0;34m.\u001b[0m\u001b[0mpostprocess\u001b[0m\u001b[0;34m(\u001b[0m\u001b[0;34m)\u001b[0m\u001b[0;34m\u001b[0m\u001b[0;34m\u001b[0m\u001b[0m\n\u001b[1;32m     18\u001b[0m \u001b[0;34m\u001b[0m\u001b[0m\n",
      "\u001b[0;32m~/anaconda3/lib/python3.7/site-packages/rawpy/__init__.py\u001b[0m in \u001b[0;36mimread\u001b[0;34m(pathOrFile)\u001b[0m\n\u001b[1;32m     19\u001b[0m     \u001b[0;32melse\u001b[0m\u001b[0;34m:\u001b[0m\u001b[0;34m\u001b[0m\u001b[0;34m\u001b[0m\u001b[0m\n\u001b[1;32m     20\u001b[0m         \u001b[0md\u001b[0m\u001b[0;34m.\u001b[0m\u001b[0mopen_file\u001b[0m\u001b[0;34m(\u001b[0m\u001b[0mpathOrFile\u001b[0m\u001b[0;34m)\u001b[0m\u001b[0;34m\u001b[0m\u001b[0;34m\u001b[0m\u001b[0m\n\u001b[0;32m---> 21\u001b[0;31m     \u001b[0md\u001b[0m\u001b[0;34m.\u001b[0m\u001b[0munpack\u001b[0m\u001b[0;34m(\u001b[0m\u001b[0;34m)\u001b[0m\u001b[0;34m\u001b[0m\u001b[0;34m\u001b[0m\u001b[0m\n\u001b[0m\u001b[1;32m     22\u001b[0m     \u001b[0;32mreturn\u001b[0m \u001b[0md\u001b[0m\u001b[0;34m\u001b[0m\u001b[0;34m\u001b[0m\u001b[0m\n",
      "\u001b[0;31mKeyboardInterrupt\u001b[0m: "
     ]
    }
   ],
   "source": [
    "ED_Feature_Df = NEFFolder2Feature(ED_NEF)"
   ]
  },
  {
   "cell_type": "code",
   "execution_count": 18,
   "metadata": {},
   "outputs": [],
   "source": [
    "def XMP_parameter(xmp_file_path):\n",
    "    fd = open(xmp_file_path)\n",
    "    d = fd.read()\n",
    "\n",
    "    parameter = []\n",
    "\n",
    "    xmp_start = d.find('crs:Exposure2012=')\n",
    "    xmp_end = d.find('crs:Contrast2012=')\n",
    "    xmp_Exposure = d[xmp_start+16:xmp_end-1]\n",
    "    Exposure = xmp_Exposure.split(\"\\\"\")[1]\n",
    "    Exposure = float(Exposure)\n",
    "    parameter.append(Exposure)\n",
    "\n",
    "\n",
    "    xmp_start = d.find('crs:Contrast2012=')\n",
    "    xmp_end = d.find('crs:Highlights2012=')\n",
    "    xmp_Contrast = d[xmp_start+17:xmp_end-1]\n",
    "    Contrast = xmp_Contrast.split(\"\\\"\")[1]\n",
    "    Contrast = int(Contrast)\n",
    "    parameter.append(Contrast)\n",
    "    \n",
    "\n",
    "    xmp_start = d.find('crs:Highlights2012=')\n",
    "    xmp_end = d.find('crs:Shadows2012=')\n",
    "    xmp_Highlight = d[xmp_start+19:xmp_end-1]\n",
    "    Highlight = xmp_Highlight.split(\"\\\"\")[1]\n",
    "    Highlight = int(Highlight)\n",
    "    parameter.append(Highlight)\n",
    "    \n",
    "\n",
    "    xmp_start = d.find('crs:Shadows2012=')\n",
    "    xmp_end = d.find('crs:Whites2012=')\n",
    "    xmp_Shadows = d[xmp_start+16:xmp_end-1]\n",
    "    Shadows = xmp_Shadows.split(\"\\\"\")[1]\n",
    "    Shadows = int(Shadows)\n",
    "    parameter.append(Shadows)\n",
    "    \n",
    "\n",
    "    xmp_start = d.find('crs:Temperature=')\n",
    "    xmp_end = d.find('crs:Tint=')\n",
    "    xmp_Temperature = d[xmp_start+16:xmp_end-1]\n",
    "    Temperature = xmp_Temperature.split(\"\\\"\")[1]\n",
    "    Temperature = int(Temperature)\n",
    "    parameter.append(Temperature)\n",
    "\n",
    "    fd.close()\n",
    "\n",
    "    return parameter"
   ]
  },
  {
   "cell_type": "code",
   "execution_count": 19,
   "metadata": {},
   "outputs": [],
   "source": [
    "def XMPFolder2LabelList(XMP_folder_path):\n",
    "\n",
    "    # go through all XMP files in folder\n",
    "    files = sorted(os.listdir(XMP_folder_path))\n",
    "    Edit_labels = []\n",
    "    Names = []\n",
    "\n",
    "    for file_idx in range(len(files)):\n",
    "        file_name = files[file_idx]\n",
    "        XMP_file_path = os.path.join(XMP_folder_path,file_name)\n",
    "        parameter = XMP_parameter(XMP_file_path)\n",
    "        Edit_labels.append(parameter)\n",
    "        Names.append(file_name)\n",
    "\n",
    "    return Edit_labels, Names\n",
    "    \n",
    "def XMPFolder2LabelDataFrame(XMP_folder_path):\n",
    "\n",
    "    # go through all XMP files in folder\n",
    "    files = sorted(os.listdir(XMP_folder_path))\n",
    "    Edit_labels = []\n",
    "    Names = []\n",
    "\n",
    "    for file_idx in range(len(files)):\n",
    "        file_name = files[file_idx]\n",
    "        XMP_file_path = os.path.join(XMP_folder_path,file_name)\n",
    "        parameter = XMP_parameter(XMP_file_path)\n",
    "        Edit_labels.append(parameter)\n",
    "        Names.append(file_name.split(\".\")[0])\n",
    "    \n",
    "    LabelsDataFrame = pd.DataFrame(Edit_labels)\n",
    "    LabelsDataFrame.columns = [\"Exposure\", \"Contrast\", \"Highlights\", \"Shadows\", \"Temperature\"]\n",
    "    LabelsDataFrame.index = Names\n",
    "\n",
    "    return LabelsDataFrame"
   ]
  },
  {
   "cell_type": "code",
   "execution_count": 20,
   "metadata": {},
   "outputs": [],
   "source": [
    "ED_XMP_IndoorPerson = \"/Users/user7/Downloads/HD6_12er/Erin & Dan Wedding/2017-09-23/ED_XMP_IndoorPerson\"\n",
    "JY_XMP_IndoorPerson = \"/Users/user7/Downloads/HD6_12er/James & Yasmin Wedding/2017-08-06/JY_XMP_IndoorPerson\"\n",
    "LM_XMP_IndoorPerson = \"/Users/user7/Downloads/HD6_12er/Lauren & Matt Wedding/2017-09-08/LM_XMP_IndoorPerson\"\n",
    "LC_XMP_IndoorPerson = \"/Users/user7/Downloads/HD6_12er/Lorraine & Chad Wedding/2017-08-19/LC_XMP_IndoorPerson\"\n"
   ]
  },
  {
   "cell_type": "code",
   "execution_count": 21,
   "metadata": {},
   "outputs": [
    {
     "ename": "FileNotFoundError",
     "evalue": "[Errno 2] No such file or directory: '/Users/user7/Downloads/HD6_12er/Erin & Dan Wedding/2017-09-23/ED_XMP_IndoorPerson/.DS_Store'",
     "output_type": "error",
     "traceback": [
      "\u001b[0;31m---------------------------------------------------------------------------\u001b[0m",
      "\u001b[0;31mFileNotFoundError\u001b[0m                         Traceback (most recent call last)",
      "\u001b[0;32m<ipython-input-21-f514f73ca2dc>\u001b[0m in \u001b[0;36m<module>\u001b[0;34m\u001b[0m\n\u001b[0;32m----> 1\u001b[0;31m \u001b[0mos\u001b[0m\u001b[0;34m.\u001b[0m\u001b[0mremove\u001b[0m\u001b[0;34m(\u001b[0m\u001b[0;34m\"/Users/user7/Downloads/HD6_12er/Erin & Dan Wedding/2017-09-23/ED_XMP_IndoorPerson/.DS_Store\"\u001b[0m\u001b[0;34m)\u001b[0m\u001b[0;34m\u001b[0m\u001b[0;34m\u001b[0m\u001b[0m\n\u001b[0m",
      "\u001b[0;31mFileNotFoundError\u001b[0m: [Errno 2] No such file or directory: '/Users/user7/Downloads/HD6_12er/Erin & Dan Wedding/2017-09-23/ED_XMP_IndoorPerson/.DS_Store'"
     ]
    }
   ],
   "source": [
    "os.remove(\"/Users/user7/Downloads/HD6_12er/Erin & Dan Wedding/2017-09-23/ED_XMP_IndoorPerson/.DS_Store\")\n"
   ]
  },
  {
   "cell_type": "code",
   "execution_count": 23,
   "metadata": {},
   "outputs": [],
   "source": [
    "ED_Label_IndoorPerson_Df = XMPFolder2LabelDataFrame(ED_XMP_IndoorPerson) \n",
    "JY_Label_IndoorPerson_Df = XMPFolder2LabelDataFrame(JY_XMP_IndoorPerson)\n",
    "LM_Label_IndoorPerson_Df = XMPFolder2LabelDataFrame(LM_XMP_IndoorPerson)\n",
    "LC_Label_IndoorPerson_Df = XMPFolder2LabelDataFrame(LC_XMP_IndoorPerson)"
   ]
  },
  {
   "cell_type": "code",
   "execution_count": 25,
   "metadata": {},
   "outputs": [],
   "source": [
    "def DataFrame2CSV(df, csv_folder_path, csv_file_name):\n",
    "    \n",
    "    csv_file_path = os.path.join(csv_folder_path, csv_file_name)\n",
    "    df.to_csv(csv_file_path)"
   ]
  },
  {
   "cell_type": "code",
   "execution_count": 26,
   "metadata": {},
   "outputs": [],
   "source": [
    "csv_folder_path = \"/Users/user7/Downloads/HD6_12er/DataPreparation\"\n",
    "\n",
    "DataFrame2CSV(ED_Label_IndoorPerson_Df, csv_folder_path, \"ED_Label_IndoorPerson.csv\")\n",
    "DataFrame2CSV(JY_Label_IndoorPerson_Df, csv_folder_path, \"JY_Label_IndoorPerson.csv\")\n",
    "DataFrame2CSV(LM_Label_IndoorPerson_Df, csv_folder_path, \"LM_Label_IndoorPerson.csv\")\n",
    "DataFrame2CSV(LC_Label_IndoorPerson_Df, csv_folder_path, \"LC_Label_IndoorPerson.csv\")"
   ]
  },
  {
   "cell_type": "code",
   "execution_count": 28,
   "metadata": {},
   "outputs": [],
   "source": [
    "df1 = pd.DataFrame({\"A\":[1,2], \"B\":[3,4]})\n",
    "df2 = pd.DataFrame({\"C\":[5,6], \"D\":[7,8]})"
   ]
  },
  {
   "cell_type": "code",
   "execution_count": 29,
   "metadata": {},
   "outputs": [
    {
     "data": {
      "text/html": [
       "<div>\n",
       "<style scoped>\n",
       "    .dataframe tbody tr th:only-of-type {\n",
       "        vertical-align: middle;\n",
       "    }\n",
       "\n",
       "    .dataframe tbody tr th {\n",
       "        vertical-align: top;\n",
       "    }\n",
       "\n",
       "    .dataframe thead th {\n",
       "        text-align: right;\n",
       "    }\n",
       "</style>\n",
       "<table border=\"1\" class=\"dataframe\">\n",
       "  <thead>\n",
       "    <tr style=\"text-align: right;\">\n",
       "      <th></th>\n",
       "      <th>A</th>\n",
       "      <th>B</th>\n",
       "    </tr>\n",
       "  </thead>\n",
       "  <tbody>\n",
       "    <tr>\n",
       "      <th>0</th>\n",
       "      <td>1</td>\n",
       "      <td>3</td>\n",
       "    </tr>\n",
       "    <tr>\n",
       "      <th>1</th>\n",
       "      <td>2</td>\n",
       "      <td>4</td>\n",
       "    </tr>\n",
       "  </tbody>\n",
       "</table>\n",
       "</div>"
      ],
      "text/plain": [
       "   A  B\n",
       "0  1  3\n",
       "1  2  4"
      ]
     },
     "execution_count": 29,
     "metadata": {},
     "output_type": "execute_result"
    }
   ],
   "source": [
    "df1"
   ]
  },
  {
   "cell_type": "code",
   "execution_count": 30,
   "metadata": {},
   "outputs": [
    {
     "data": {
      "text/html": [
       "<div>\n",
       "<style scoped>\n",
       "    .dataframe tbody tr th:only-of-type {\n",
       "        vertical-align: middle;\n",
       "    }\n",
       "\n",
       "    .dataframe tbody tr th {\n",
       "        vertical-align: top;\n",
       "    }\n",
       "\n",
       "    .dataframe thead th {\n",
       "        text-align: right;\n",
       "    }\n",
       "</style>\n",
       "<table border=\"1\" class=\"dataframe\">\n",
       "  <thead>\n",
       "    <tr style=\"text-align: right;\">\n",
       "      <th></th>\n",
       "      <th>C</th>\n",
       "      <th>D</th>\n",
       "    </tr>\n",
       "  </thead>\n",
       "  <tbody>\n",
       "    <tr>\n",
       "      <th>0</th>\n",
       "      <td>5</td>\n",
       "      <td>7</td>\n",
       "    </tr>\n",
       "    <tr>\n",
       "      <th>1</th>\n",
       "      <td>6</td>\n",
       "      <td>8</td>\n",
       "    </tr>\n",
       "  </tbody>\n",
       "</table>\n",
       "</div>"
      ],
      "text/plain": [
       "   C  D\n",
       "0  5  7\n",
       "1  6  8"
      ]
     },
     "execution_count": 30,
     "metadata": {},
     "output_type": "execute_result"
    }
   ],
   "source": [
    "df2"
   ]
  },
  {
   "cell_type": "code",
   "execution_count": 35,
   "metadata": {},
   "outputs": [],
   "source": [
    "df1.columns = [\"column1\", \"column2\"]"
   ]
  },
  {
   "cell_type": "code",
   "execution_count": 33,
   "metadata": {},
   "outputs": [
    {
     "data": {
      "text/html": [
       "<div>\n",
       "<style scoped>\n",
       "    .dataframe tbody tr th:only-of-type {\n",
       "        vertical-align: middle;\n",
       "    }\n",
       "\n",
       "    .dataframe tbody tr th {\n",
       "        vertical-align: top;\n",
       "    }\n",
       "\n",
       "    .dataframe thead th {\n",
       "        text-align: right;\n",
       "    }\n",
       "</style>\n",
       "<table border=\"1\" class=\"dataframe\">\n",
       "  <thead>\n",
       "    <tr style=\"text-align: right;\">\n",
       "      <th></th>\n",
       "      <th>column1</th>\n",
       "      <th>column2</th>\n",
       "    </tr>\n",
       "  </thead>\n",
       "  <tbody>\n",
       "    <tr>\n",
       "      <th>0</th>\n",
       "      <td>1</td>\n",
       "      <td>3</td>\n",
       "    </tr>\n",
       "    <tr>\n",
       "      <th>1</th>\n",
       "      <td>2</td>\n",
       "      <td>4</td>\n",
       "    </tr>\n",
       "  </tbody>\n",
       "</table>\n",
       "</div>"
      ],
      "text/plain": [
       "   column1  column2\n",
       "0        1        3\n",
       "1        2        4"
      ]
     },
     "execution_count": 33,
     "metadata": {},
     "output_type": "execute_result"
    }
   ],
   "source": [
    "df1"
   ]
  },
  {
   "cell_type": "code",
   "execution_count": null,
   "metadata": {},
   "outputs": [],
   "source": []
  }
 ],
 "metadata": {
  "kernelspec": {
   "display_name": "Python 3",
   "language": "python",
   "name": "python3"
  },
  "language_info": {
   "codemirror_mode": {
    "name": "ipython",
    "version": 3
   },
   "file_extension": ".py",
   "mimetype": "text/x-python",
   "name": "python",
   "nbconvert_exporter": "python",
   "pygments_lexer": "ipython3",
   "version": "3.7.3"
  }
 },
 "nbformat": 4,
 "nbformat_minor": 2
}
