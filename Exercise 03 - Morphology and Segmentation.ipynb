{
  "cells": [
    {
      "metadata": {
        "collapsed": true
      },
      "cell_type": "markdown",
      "source": "# Mathematical Morphology, Thresholding, and Segmentation\n\nIn this notebook we'll explore several image manipulation techniques that can be used together to separate objects within an image.\n\n## Mathematical Morphology\nWe'll start by looking at some basic mathematical morphological operations - specifically, erosion and dilation.\n\nDilation and erosion are operations we can perform on images using a structuring element - which is like a filter kernel that acts as a binary mask on the pixels in the image.\n\nFor example, let's create a simple binary image of a square:"
    },
    {
      "metadata": {
        "trusted": true
      },
      "cell_type": "code",
      "source": "import numpy as np\nfrom skimage import morphology as sk_mm\nfrom matplotlib import pyplot as plt\n\n# Required magic to display matplotlib plots in notebooks\n%matplotlib inline\n\n\nsquare = np.array([[0, 0, 0, 0, 0],\n                   [0, 1, 1, 1, 0],\n                   [0, 1, 1, 1, 0],\n                   [0, 1, 1, 1, 0],\n                   [0, 0, 0, 0, 0]], dtype=np.uint8)\n\n\n# Display it\nfig = plt.figure(figsize=(3,3))\nplt.imshow(square, cmap=\"binary\")\nplt.show()",
      "execution_count": null,
      "outputs": []
    },
    {
      "metadata": {},
      "cell_type": "markdown",
      "source": "We'll perform mathematical morphological operations on this by applying the following simple structuring element:"
    },
    {
      "metadata": {
        "trusted": true
      },
      "cell_type": "code",
      "source": "struct_element = sk_mm.selem.diamond(1)\nprint(struct_element)\n\n# Display it\nfig = plt.figure(figsize=(1,1))\nplt.imshow(struct_element, cmap=\"binary\")\nplt.show()",
      "execution_count": null,
      "outputs": []
    },
    {
      "metadata": {},
      "cell_type": "markdown",
      "source": "### Erosion\nErosion has the effect of removing pixels at the edges of shapes in the image. The structuring element only retains center pixels where *all* of the values in the area of the image beneath the structuring element match the corresponding pixels in the structuring element itself (in other words, it performs a logical AND operation) to set the target pixel."
    },
    {
      "metadata": {
        "trusted": true
      },
      "cell_type": "code",
      "source": "# Apply erosion\neroded_square = sk_mm.erosion(square, struct_element)\n\nfig = plt.figure(figsize=(6, 6))\n# Plot original image\na=fig.add_subplot(1, 2, 1)\nplt.imshow(square, cmap=\"binary\")\na.set_title(\"Original\")\n\n# Plot eroded image\na=fig.add_subplot(1, 2, 2)\nplt.imshow(eroded_square, cmap=\"binary\")\na.set_title(\"Eroded\")\n\nplt.show()",
      "execution_count": null,
      "outputs": []
    },
    {
      "metadata": {},
      "cell_type": "markdown",
      "source": "### Dilation\nDilation has the effect of adding pixels at the edges of shapes in the image. The structuring element only retains center pixels where *any* of the values in the area of the image beneath the structuring element match the corresponding pixels in the structuring element itself (in other words, it performs a logical OR operation) to set the target pixel."
    },
    {
      "metadata": {
        "trusted": true
      },
      "cell_type": "code",
      "source": "#Apply dilation\ndilated_square = sk_mm.dilation(square, struct_element)\n\n# Display it\nfig = plt.figure(figsize=(6, 6))\n\n# Plot original image\na=fig.add_subplot(1, 2, 1)\nplt.imshow(square, cmap=\"binary\")\na.set_title(\"Original\")\n\n# Plot dilated image\na=fig.add_subplot(1, 2, 2)\nplt.imshow(dilated_square, cmap=\"binary\")\na.set_title(\"Dilated\")\n\nplt.show()",
      "execution_count": null,
      "outputs": []
    },
    {
      "metadata": {},
      "cell_type": "markdown",
      "source": "### Combining Erosion and Dilation\n\nYou can combine erosion and dilation to have specific effects on images. For example, here's the effect of applying erosion followed by dilation:"
    },
    {
      "metadata": {
        "trusted": true
      },
      "cell_type": "code",
      "source": "dilated_square = sk_mm.dilation(square, struct_element)\nclosed_square = sk_mm.erosion(dilated_square, struct_element)\n\nfig = plt.figure(figsize=(6, 6))\n\n# Plot original image\na=fig.add_subplot(1, 2, 1)\nimage_plot_1 = plt.imshow(square, cmap=\"binary\")\na.set_title(\"Original\")\n\n# Plot closed image\na=fig.add_subplot(1, 2, 2)\nimage_plot_2 = plt.imshow(closed_square, cmap=\"binary\")\na.set_title(\"Closed\")\n\nplt.show()",
      "execution_count": null,
      "outputs": []
    },
    {
      "metadata": {},
      "cell_type": "markdown",
      "source": "And here's the opposite - dilation followed by erosion:"
    },
    {
      "metadata": {
        "trusted": true
      },
      "cell_type": "code",
      "source": "eroded_square = sk_mm.erosion(square, struct_element)\nopened_square = sk_mm.dilation(eroded_square, struct_element)\n\n# Display it\nfig = plt.figure(figsize=(6, 6))\n\n# Plot original image\na=fig.add_subplot(1, 2, 1)\nimage_plot_1 = plt.imshow(square, cmap=\"binary\")\na.set_title(\"Original\")\n\n# Plot opened image\na=fig.add_subplot(1, 2, 2)\nimage_plot_2 = plt.imshow(opened_square, cmap=\"binary\")\na.set_title(\"Opened\")\n\nplt.show()",
      "execution_count": null,
      "outputs": []
    },
    {
      "metadata": {},
      "cell_type": "markdown",
      "source": "These combinations of erosion and dilation have specific names. Dilation followed by erosion is called *closing*, and erosion followed by dilation is called *opening*.\n\nThere are dedicated functions for these combinatory operations in Scikit-image:"
    },
    {
      "metadata": {
        "trusted": true
      },
      "cell_type": "code",
      "source": "# Apply closing and opening\nclosed_square = sk_mm.closing(square, struct_element)\nopened_square = sk_mm.opening(square, struct_element)\n\n# Display it\nfig = plt.figure(figsize=(9, 6))\n\n# Plot original image\na=fig.add_subplot(1, 3, 1)\nimage_plot_1 = plt.imshow(square, cmap=\"binary\")\na.set_title(\"Original\")\n\n# Plot closed image\na=fig.add_subplot(1, 3, 2)\nimage_plot_2 = plt.imshow(closed_square, cmap=\"binary\")\na.set_title(\"Closed\")\n\n# Plot opened image\na=fig.add_subplot(1, 3, 3)\nimage_plot_2 = plt.imshow(opened_square, cmap=\"binary\")\na.set_title(\"Opened\")\n\nplt.show()",
      "execution_count": null,
      "outputs": []
    },
    {
      "metadata": {},
      "cell_type": "markdown",
      "source": "So what effect do these mathematical morphology operations have on real images, rather than just binary shapes? Let's take a look:"
    },
    {
      "metadata": {
        "trusted": true
      },
      "cell_type": "code",
      "source": "import os\nfrom skimage import io as sk_io\nimport skimage.color as sk_col\n\n# Load the image from the source file\nimage_file = \"../data/voc/plane/008372.jpg\"\nimage = sk_io.imread(image_file)\n\n# Convert to grayscale so we only have one channel\nbw_image = sk_col.rgb2gray(image)\n\n# Apply operations\neroded_image = sk_mm.erosion(bw_image)\ndilated_image = sk_mm.dilation(bw_image)\nclosed_image = sk_mm.closing(bw_image)\nopened_image = sk_mm.opening(bw_image)\n\n# Display it\nfig = plt.figure(figsize=(20,20))\n\n# Plot original image\na=fig.add_subplot(5, 1, 1)\nplt.imshow(bw_image, cmap=\"gray\")\na.set_title(\"Original\")\n\n# Plot eroded image\na=fig.add_subplot(5, 1, 2)\nplt.imshow(eroded_image, cmap=\"gray\")\na.set_title(\"Eroded\")\n\n# Plot dilated image\na=fig.add_subplot(5, 1, 3)\nplt.imshow(dilated_image, cmap=\"gray\")\na.set_title(\"Dilated\")\n\n# Plot closed image\na=fig.add_subplot(5, 1, 4)\nplt.imshow(closed_image, cmap=\"gray\")\na.set_title(\"Closed\")\n\n# Plot opened image\na=fig.add_subplot(5, 1, 5)\nplt.imshow(opened_image, cmap=\"gray\")\na.set_title(\"Opened\")\n\nplt.show()",
      "execution_count": null,
      "outputs": []
    },
    {
      "metadata": {},
      "cell_type": "markdown",
      "source": "In general, erosion and opening have the effect of \"brightening\" the image."
    },
    {
      "metadata": {},
      "cell_type": "markdown",
      "source": "## Thresholding\n\nThresholding is a way to *binarize* (separate the image into areas of black and white) based a boundary pixel value. In the simplest example, we can take a grayscale image and set the threshold boundary to the mean pixel value:"
    },
    {
      "metadata": {
        "trusted": true
      },
      "cell_type": "code",
      "source": "import os\nimport numpy as np\nfrom matplotlib import pyplot as plt\nfrom skimage import io as sk_io, color as sk_col, morphology as sk_mm\nfrom skimage.filters import threshold_mean\n\n%matplotlib inline\n\n# Load the image from the source file\nimage_file = \"../data/voc/plane/008372.jpg\"\nimage = sk_io.imread(image_file)\n\n# Convert to grayscale so we only have one channel\nbw_image = sk_col.rgb2gray(image)\n\n# Find the mean threshold value\nmean_val = threshold_mean(bw_image)\n\n# Threshold the image\nbinary_image = bw_image > mean_val\n\n# Plot the thresholded image\nfig = plt.figure(figsize=(3,3))\nplt.imshow(binary_image, cmap=\"gray\")\nplt.title(\"Mean Threshold: \" + str(mean_val))\nplt.show()",
      "execution_count": null,
      "outputs": []
    },
    {
      "metadata": {},
      "cell_type": "markdown",
      "source": "The threshold value is the mean pixel intensity (which in this fgrascale image is normalized getween 0 and 1). All of the pixels with a value higher than the threshold are set to white, the others are set to black. \n\nThere are various ways to calculate the threshold value. Scikit-learn has a handy filter that applies multiple techniques so you can compare the results:"
    },
    {
      "metadata": {
        "trusted": true
      },
      "cell_type": "code",
      "source": "from skimage.filters import try_all_threshold\n\nfig, ax = try_all_threshold(bw_image, figsize=(10, 10), verbose=False)\nplt.show()",
      "execution_count": null,
      "outputs": []
    },
    {
      "metadata": {},
      "cell_type": "markdown",
      "source": "Of these, there are several threshold values that clearly separate the plane in the foregrounds from the background sky.\nTo better understand this, let's look at a histogram of the grayscale pixel values."
    },
    {
      "metadata": {
        "trusted": true
      },
      "cell_type": "code",
      "source": "# Plot a histogram - we need to use ravel to \"flatten\" the 3 dimensions\nplt.hist(bw_image.ravel())\nplt.show()",
      "execution_count": null,
      "outputs": []
    },
    {
      "metadata": {},
      "cell_type": "markdown",
      "source": "Our image is slightly bi-modal - in other words it has two peaks or *maxima*. Both the **Minimum** and **Otsu** thresholding techniques explit this by finding a value between the maxima:"
    },
    {
      "metadata": {
        "trusted": true
      },
      "cell_type": "code",
      "source": "from skimage.filters import threshold_minimum, threshold_otsu\n\n# Apply Minimum thresholding\nmin_val = threshold_minimum(bw_image)\nbinary_image_min = bw_image > min_val\n\n# Apply Otsu thresholding\notsu_val = threshold_otsu(bw_image)\nbinary_image_otsu = bw_image > otsu_val\n\n# Display the thresholded images\nfig = plt.figure(figsize=(12,12))\n\n# Minimum\na=fig.add_subplot(1, 2, 1)\nimage_plot_1 = plt.imshow(binary_image_min, cmap=\"gray\")\na.set_title(\"Min Threshold: \" + str(min_val))\n\n# Otsu\na=fig.add_subplot(1, 2, 2)\nimage_plot_2 = plt.imshow(binary_image_otsu, cmap=\"gray\")\na.set_title(\"Otsu Threshold: \" + str(otsu_val))\n\nplt.show()",
      "execution_count": null,
      "outputs": []
    },
    {
      "metadata": {},
      "cell_type": "markdown",
      "source": "Among the results returned by the **try_all_thresholds** method was one from the **Triangle** threshold filter. This almost completely separated the foreground from the background other than a few pixels from the background that are over the threshold - particularly on the left edge of the image and around the wings of the plane. In this case, we can apply some mathematical morphology to clean up these sparse pixels:"
    },
    {
      "metadata": {
        "trusted": true
      },
      "cell_type": "code",
      "source": "from skimage.filters import threshold_triangle\n\n# Apply Triangle thresholding\ntri_val = threshold_triangle(bw_image)\nbinary_image_tri = bw_image > tri_val\n\n# Apply erosion\nclosed_image_tri = sk_mm.closing(binary_image_tri)\n\nfig = plt.figure(figsize=(12,12))\n\n# Plot original image\na=fig.add_subplot(1, 2, 1)\nplt.imshow(binary_image_tri, cmap=\"gray\")\na.set_title(\"Triangle Thresholding\")\n\n# Plot eroded image\na=fig.add_subplot(1, 2, 2)\nplt.imshow(closed_image_tri, cmap=\"gray\")\na.set_title(\"Triangle Thresholding + Closing\")\n\nplt.show()",
      "execution_count": null,
      "outputs": []
    },
    {
      "metadata": {},
      "cell_type": "markdown",
      "source": "## Watershed Segmentation\n\nSo far, we've used thresholding to separate the foreground from the background of an image. However, in the previous example we were dealing with only one foreground object. What if we have multipel foreground objects that overlap, like this?"
    },
    {
      "metadata": {
        "trusted": true
      },
      "cell_type": "code",
      "source": "from skimage import io as sk_io\nfrom skimage.filters import threshold_otsu\nfrom matplotlib import pyplot as plt\n%matplotlib inline\n\n# Load the image from the source file\nplanes_image_file = \"../data/object_detection/007280.jpg\"\nplanes_image = sk_io.imread(planes_image_file)\n\nfig = plt.figure(figsize=(6,6))\nplt.imshow(planes_image)\nplt.show()",
      "execution_count": null,
      "outputs": []
    },
    {
      "metadata": {
        "trusted": true
      },
      "cell_type": "markdown",
      "source": "The two planes in this image overlap slightly, just at the tail of the lower plane.\n\nLet's apply a threshold to this image, and invert it so that the background is black and the foreground white:"
    },
    {
      "metadata": {
        "trusted": true
      },
      "cell_type": "code",
      "source": "import numpy as np\nfrom skimage import color as sk_col\nfrom skimage.filters import threshold_otsu\n\n# Convert to grayscale so we only have one channel\nbw_planes = sk_col.rgb2gray(planes_image)\nplanes_otsu = threshold_otsu(bw_planes)\nthresh_planes = bw_planes > planes_otsu\n\n# Convert the thresholded image to its inverse\ninverse_thresh = np.invert(thresh_planes)\n\nfig = plt.figure(figsize=(6,6))\nplt.imshow(inverse_thresh, \"gray\")\nplt.show()",
      "execution_count": null,
      "outputs": []
    },
    {
      "metadata": {},
      "cell_type": "markdown",
      "source": "Our goal is to separate the background and foreground, so let's use some mathematical morphology to clean up some of the noise and determine what's definitely background in this image:"
    },
    {
      "metadata": {
        "trusted": true
      },
      "cell_type": "code",
      "source": "from skimage import morphology as sk_mm\n\n# Use opening and dilation to find the background\nkernel = sk_mm.selem.square(3)\nopened_thresh = sk_mm.opening(inverse_thresh, kernel)\nbackground = sk_mm.dilation(opened_thresh, kernel)\n\nfig = plt.figure(figsize=(6,6))\nplt.imshow(background,cmap=\"gray\", interpolation='nearest')\nplt.show()",
      "execution_count": null,
      "outputs": []
    },
    {
      "metadata": {},
      "cell_type": "markdown",
      "source": "Finding the foreground is a little more tricky, because there's overlap between the foreground objects. We could just use erosion to dispose of the boundery pixels, but another approach is to calculate distances from each foreground pixel to the background. Then we can apply a threshold to the distances to separate the definite foreground from the pixels where we don't know if they're foreground or background."
    },
    {
      "metadata": {
        "trusted": true
      },
      "cell_type": "code",
      "source": "from scipy import ndimage as ndi\nfrom skimage.filters import threshold_minimum\n\ndistance = ndi.distance_transform_edt(opened_thresh)\n\nforeground_threshold = threshold_otsu(distance)\nforeground = distance > foreground_threshold\nforeground = np.uint8(foreground)\n\nunknown = background - foreground\n\nfig = plt.figure(figsize=(16,16))\n\na=fig.add_subplot(1, 3, 1)\nplt.imshow(distance, cmap=\"gray\")\na.set_title(\"Distances\")\n\n# Plot eroded image\na=fig.add_subplot(1, 3, 2)\nplt.imshow(foreground, cmap=\"gray\")\na.set_title(\"Foreground\")\n\n# Plot eroded image\na=fig.add_subplot(1, 3, 3)\nplt.imshow(unknown, cmap=\"gray\")\na.set_title(\"Unknown\")\n\nplt.show()\n\n",
      "execution_count": null,
      "outputs": []
    },
    {
      "metadata": {},
      "cell_type": "markdown",
      "source": "Now we'll apply markers to the foreground obejcts, assigning each connected area of foreground different value"
    },
    {
      "metadata": {
        "trusted": true
      },
      "cell_type": "code",
      "source": "from skimage.feature import peak_local_max\n\nlocal_maxi = peak_local_max(foreground, indices=False, footprint=np.ones((3, 3)), labels=inverse_thresh)\nmarkers = ndi.label(local_maxi)[0]\n\nfig = plt.figure(figsize=(6,6))\nplt.imshow(markers, \"gray\")\nplt.show()",
      "execution_count": null,
      "outputs": []
    },
    {
      "metadata": {},
      "cell_type": "markdown",
      "source": "And finally, we'll use the watershed technique to fill in the different foreground objects until they cover the unknown regions. The end result of this is that we've segmented the image to show each discrete object as a different shade."
    },
    {
      "metadata": {
        "trusted": true
      },
      "cell_type": "code",
      "source": "from skimage.morphology import watershed\n\n# Apply watershed\nlabels = watershed(inverse_thresh, markers)\n\n# Invert the image back so the background is white\ninverted_labels = np.invert(labels)\n\nfig = plt.figure(figsize=(6,6))\nplt.imshow(inverted_labels, \"gray\")\nplt.show()",
      "execution_count": null,
      "outputs": []
    }
  ],
  "metadata": {
    "kernelspec": {
      "name": "python36",
      "display_name": "Python 3.6",
      "language": "python"
    },
    "language_info": {
      "mimetype": "text/x-python",
      "nbconvert_exporter": "python",
      "name": "python",
      "pygments_lexer": "ipython3",
      "version": "3.6.6",
      "file_extension": ".py",
      "codemirror_mode": {
        "version": 3,
        "name": "ipython"
      }
    }
  },
  "nbformat": 4,
  "nbformat_minor": 2
}